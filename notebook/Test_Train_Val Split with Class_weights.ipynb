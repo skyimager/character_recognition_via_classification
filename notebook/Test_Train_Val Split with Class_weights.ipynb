{
 "cells": [
  {
   "cell_type": "markdown",
   "metadata": {},
   "source": [
    "## Generate test.txt, train.txt, validation.txt and class_weights to be used in training"
   ]
  },
  {
   "cell_type": "code",
   "execution_count": 1,
   "metadata": {},
   "outputs": [],
   "source": [
    "%load_ext autoreload\n",
    "%autoreload 2"
   ]
  },
  {
   "cell_type": "code",
   "execution_count": 2,
   "metadata": {},
   "outputs": [
    {
     "data": {
      "text/plain": [
       "'/Users/pradip.gupta/personal-projects/charni/notebook'"
      ]
     },
     "execution_count": 2,
     "metadata": {},
     "output_type": "execute_result"
    }
   ],
   "source": [
    "import os\n",
    "os.getcwd()"
   ]
  },
  {
   "cell_type": "code",
   "execution_count": 3,
   "metadata": {},
   "outputs": [
    {
     "data": {
      "text/plain": [
       "'/Users/pradip.gupta/personal-projects/charni'"
      ]
     },
     "execution_count": 3,
     "metadata": {},
     "output_type": "execute_result"
    }
   ],
   "source": [
    "import sys, glob, shutil\n",
    "os.chdir(os.path.dirname(os.getcwd()))\n",
    "os.getcwd()"
   ]
  },
  {
   "cell_type": "markdown",
   "metadata": {},
   "source": [
    "## Input params"
   ]
  },
  {
   "cell_type": "code",
   "execution_count": null,
   "metadata": {},
   "outputs": [],
   "source": [
    "import fnmatch\n",
    "import numpy as np\n",
    "import pickle\n",
    "\n",
    "base = \"data/English\"\n",
    "datasets = [\"GoodImg\",\"BadImg\"]\n",
    "\n",
    "config = {\"GoodImg\":{\"train\":0.8,\n",
    "                    \"validation\":0.10,\n",
    "                    \"test\":0.10},\n",
    "          \"BadImg\":{\"train\":0.8,\n",
    "                    \"validation\":0.10,\n",
    "                    \"test\":0.10}\n",
    "          }\n",
    "\n",
    "phases = [\"train\", \"test\", \"validation\"]"
   ]
  },
  {
   "cell_type": "code",
   "execution_count": null,
   "metadata": {},
   "outputs": [],
   "source": [
    "for dataset in datasets:\n",
    "    \n",
    "    if os.path.exists(os.path.join(base, dataset, \"train.txt\")):\n",
    "        os.remove(os.path.join(base, dataset, \"train.txt\"))\n",
    "\n",
    "    if os.path.exists(os.path.join(base, dataset, \"validation.txt\")):\n",
    "        os.remove(os.path.join(base, dataset, \"validation.txt\"))\n",
    "\n",
    "    if os.path.exists(os.path.join(base, dataset, \"test.txt\")):\n",
    "        os.remove(os.path.join(base, dataset, \"test.txt\"))\n",
    "    \n",
    "    if os.path.exists(os.path.join(base, dataset, dataset+\".pkl\")):\n",
    "        os.remove(os.path.join(base, dataset, dataset+\".pkl\"))\n",
    "\n",
    "    files_per_klass = []\n",
    "    no_of_files_per_klass = []\n",
    "    class_weights = {}\n",
    "\n",
    "    for klass in os.listdir(os.path.join(base, dataset)):\n",
    "        if not klass.startswith(\".\"):\n",
    "            dire = os.path.join(base, dataset, klass)\n",
    "            files = []\n",
    "\n",
    "            #glob recursive doesn't work below 3.5\n",
    "            for root, dirnames, filenames in os.walk(dire):\n",
    "                for filename in fnmatch.filter(filenames, '*.png'):\n",
    "                    files.append(os.path.join(root, filename))\n",
    "\n",
    "            files_per_klass.append((klass, files))\n",
    "            no_of_files_per_klass.append(len(files))\n",
    "    \n",
    "    maxo = max(no_of_files_per_klass)\n",
    "    train_per = config[dataset][\"train\"] #no of files in training per class\n",
    "    val_per = config[dataset][\"validation\"] #no of files in validation per class\n",
    "    \n",
    "    for klass, files in files_per_klass:\n",
    "        \n",
    "        images = {}\n",
    "        train_size = int(train_per*len(files))\n",
    "        val_size = int(val_per*len(files))\n",
    "        \n",
    "        images[\"train\"] =  files[:train_size]\n",
    "        images[\"validation\"] =  files[train_size:(train_size+val_size)]\n",
    "        images[\"test\"] =  files[(train_size+val_size):]\n",
    "        \n",
    "        label = int(klass[-2:])\n",
    "        class_weights[label] = maxo//len(files)\n",
    "\n",
    "        for phase in phases:\n",
    "            with open('{}/{}.txt'.format(os.path.join(base,dataset),phase), 'a') as f:\n",
    "                for image in images[phase]:\n",
    "                    image = os.path.relpath(image, os.path.join(base,dataset))\n",
    "                    f.write('{} {}\\n'.format(image, label))\n",
    "    \n",
    "    with open('{}/{}.pkl'.format(os.path.join(base,dataset),dataset), 'wb') as f:\n",
    "        pickle.dump(class_weights, f, pickle.HIGHEST_PROTOCOL)\n",
    "                    \n",
    "    for phase in phases:\n",
    "        content = []\n",
    "        with open('{}/{}.txt'.format(os.path.join(base,dataset),phase), 'r') as f:\n",
    "            content = f.readlines()\n",
    "        np.random.shuffle(content)\n",
    "        print(dataset, \" \", phase, \" \", len(content))\n",
    "\n",
    "        with open('{}/{}.txt'.format(os.path.join(base,dataset), phase), 'w') as f:\n",
    "            for line in content:\n",
    "                f.write(line)\n",
    "    \n",
    "    print(\"file shuffling completed for {} \\n\".format(dataset))"
   ]
  },
  {
   "cell_type": "code",
   "execution_count": null,
   "metadata": {},
   "outputs": [],
   "source": []
  },
  {
   "cell_type": "markdown",
   "metadata": {},
   "source": [
    "### Just for Checking the generated class_weights"
   ]
  },
  {
   "cell_type": "code",
   "execution_count": null,
   "metadata": {},
   "outputs": [],
   "source": [
    "with open('data/English/GoodImg/GoodImg.pkl', 'rb') as f:\n",
    "    return pickle.load(f)"
   ]
  },
  {
   "cell_type": "code",
   "execution_count": null,
   "metadata": {},
   "outputs": [],
   "source": []
  },
  {
   "cell_type": "code",
   "execution_count": null,
   "metadata": {},
   "outputs": [],
   "source": []
  },
  {
   "cell_type": "code",
   "execution_count": null,
   "metadata": {},
   "outputs": [],
   "source": []
  }
 ],
 "metadata": {
  "kernelspec": {
   "display_name": "Python 3",
   "language": "python",
   "name": "python3"
  },
  "language_info": {
   "codemirror_mode": {
    "name": "ipython",
    "version": 3
   },
   "file_extension": ".py",
   "mimetype": "text/x-python",
   "name": "python",
   "nbconvert_exporter": "python",
   "pygments_lexer": "ipython3",
   "version": "3.6.7"
  }
 },
 "nbformat": 4,
 "nbformat_minor": 2
}
