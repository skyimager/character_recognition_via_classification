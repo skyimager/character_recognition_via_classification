{
 "cells": [
  {
   "cell_type": "markdown",
   "metadata": {},
   "source": [
    "# CHAracter Recognition in Natural Images (CHARIN)"
   ]
  },
  {
   "cell_type": "markdown",
   "metadata": {},
   "source": [
    "### This notebook is an attempt to walk through the entire code step-by-step, explaining the different blocks, to give an overview of the project. "
   ]
  },
  {
   "cell_type": "code",
   "execution_count": 1,
   "metadata": {},
   "outputs": [],
   "source": [
    "%load_ext autoreload\n",
    "%autoreload 2"
   ]
  },
  {
   "cell_type": "code",
   "execution_count": 2,
   "metadata": {},
   "outputs": [
    {
     "data": {
      "text/plain": [
       "'/Users/pradip.gupta/personal-projects/charni/notebook'"
      ]
     },
     "execution_count": 2,
     "metadata": {},
     "output_type": "execute_result"
    }
   ],
   "source": [
    "import os\n",
    "os.getcwd()"
   ]
  },
  {
   "cell_type": "code",
   "execution_count": 3,
   "metadata": {},
   "outputs": [
    {
     "data": {
      "text/plain": [
       "'/Users/pradip.gupta/personal-projects/charni'"
      ]
     },
     "execution_count": 3,
     "metadata": {},
     "output_type": "execute_result"
    }
   ],
   "source": [
    "import sys, glob, shutil\n",
    "os.chdir(os.path.dirname(os.getcwd()))\n",
    "os.getcwd()"
   ]
  },
  {
   "cell_type": "markdown",
   "metadata": {},
   "source": [
    "#### Adding \"src/networks\" folder in path, to enable in-line imports for the network files using importlib"
   ]
  },
  {
   "cell_type": "code",
   "execution_count": 4,
   "metadata": {},
   "outputs": [],
   "source": [
    "import os, sys\n",
    "sys.path.append(os.path.abspath('./src/networks'))"
   ]
  },
  {
   "cell_type": "code",
   "execution_count": 5,
   "metadata": {},
   "outputs": [
    {
     "name": "stderr",
     "output_type": "stream",
     "text": [
      "Using TensorFlow backend.\n"
     ]
    }
   ],
   "source": [
    "#To handel OOM errors\n",
    "import tensorflow as tf\n",
    "import keras.backend.tensorflow_backend as ktf\n",
    "from keras import backend as K\n",
    "def get_session():\n",
    "    gpu_options = tf.GPUOptions(per_process_gpu_memory_fraction= 0.9,\n",
    "                                allow_growth=True)\n",
    "    return tf.Session(config=tf.ConfigProto(gpu_options=gpu_options))\n",
    "ktf.set_session(get_session())"
   ]
  },
  {
   "cell_type": "code",
   "execution_count": 6,
   "metadata": {},
   "outputs": [],
   "source": [
    "#Standard imports\n",
    "import pandas as pd\n",
    "import importlib\n",
    "import pickle\n",
    "import numpy as np\n",
    "from keras.models import load_model\n",
    "from keras.optimizers import Adam, RMSprop, Nadam, SGD"
   ]
  },
  {
   "cell_type": "markdown",
   "metadata": {},
   "source": [
    "### Loading all the custom functions that we have written. These make the training script neat and help in debugging in case of errors. "
   ]
  },
  {
   "cell_type": "code",
   "execution_count": 7,
   "metadata": {},
   "outputs": [],
   "source": [
    "#Custom imports\n",
    "import config\n",
    "from src.training import data_loader\n",
    "from src.training.data_generator import DataGenerator\n",
    "from src.training.keras_callbacks import get_callbacks\n",
    "from src.training.training_modes import training_scratch, training_checkpoint, fine_tune, transfer_learning\n",
    "from src.training.keras_history import generate_stats\n",
    "from src.training.plots import save_plots"
   ]
  },
  {
   "cell_type": "markdown",
   "metadata": {},
   "source": [
    "## Reading Config"
   ]
  },
  {
   "cell_type": "code",
   "execution_count": 8,
   "metadata": {},
   "outputs": [],
   "source": [
    "base_path = config.base_path    \n",
    "exp_name = config.exp_name\n",
    "\n",
    "#Params\n",
    "    #Constants\n",
    "size = config.size\n",
    "classes = config.nclasses\n",
    "chs = config.chs\n",
    "\n",
    "    #Training Params\n",
    "epochs = config.epochs\n",
    "learning_rate = config.learning_rate   \n",
    "batch_size = config.batch_size \n",
    "initial_epoch = config.initial_epoch\n",
    "\n",
    "f = open(config.class_weights_path, 'rb')\n",
    "class_weights = pickle.load(f)\n",
    "\n",
    "training_frm_scratch = config.training_frm_scratch\n",
    "training_frm_chkpt = config.training_frm_chkpt\n",
    "fine_tuning = config.fine_tuning\n",
    "transfer_lr = config.transfer_lr\n",
    "trial = config.trial\n",
    "\n",
    "if sum((training_frm_scratch, training_frm_chkpt, fine_tuning, transfer_lr)) != 1:\n",
    "    raise Exception(\"Conflicting training modes\")"
   ]
  },
  {
   "cell_type": "markdown",
   "metadata": {},
   "source": [
    "## Building data source"
   ]
  },
  {
   "cell_type": "code",
   "execution_count": 9,
   "metadata": {},
   "outputs": [
    {
     "name": "stdout",
     "output_type": "stream",
     "text": [
      "\n",
      "Printing unique labels\n",
      "for train: [ 1  2  3  4  5  6  7  8  9 10 11 12 13 14 15 16 17 18 19 20 21 22 23 24\n",
      " 25 26 27 28 29 30 31 32 33 34 35 36 37 38 39 40 41 42 43 44 45 46 47 48\n",
      " 49 50 51 52 53 54 55 56 57 58 59 60 61 62]\n",
      "for val: [ 1  2  3  4  5  6  7  8  9 10 11 12 13 14 15 16 17 18 19 20 21 22 23 24\n",
      " 25 26 27 28 29 30 31 32 33 34 35 36 37 38 39 40 41 42 43 44 45 46 47 48\n",
      " 49 50 51 52 53 54 55 56 57 58 59 60 61 62]\n",
      "for test: [ 1  2  3  4  5  6  7  8  9 10 11 12 13 14 15 16 17 18 19 20 21 22 23 24\n",
      " 25 26 27 28 29 30 31 32 33 34 35 36 37 38 39 40 41 42 43 44 45 46 47 48\n",
      " 49 50 51 52 53 54 55 56 57 58 59 60 61 62]\n"
     ]
    }
   ],
   "source": [
    "X_train, y_train, X_val, y_val, X_test, y_test = data_loader.build_source(base_path)"
   ]
  },
  {
   "cell_type": "code",
   "execution_count": 10,
   "metadata": {},
   "outputs": [],
   "source": [
    "if trial:\n",
    "    print(\"Running in trail mode\")\n",
    "    samples = config.samples\n",
    "    X_train =  X_train[:samples]\n",
    "    y_train = y_train[:samples]\n",
    "    X_val = X_val[:samples] \n",
    "    y_val = y_val[:samples] \n",
    "    X_test = X_test[:samples]\n",
    "    y_test = y_test[:samples]"
   ]
  },
  {
   "cell_type": "markdown",
   "metadata": {},
   "source": [
    "## Data Generator"
   ]
  },
  {
   "cell_type": "code",
   "execution_count": 11,
   "metadata": {},
   "outputs": [
    {
     "name": "stdout",
     "output_type": "stream",
     "text": [
      "191 23\n"
     ]
    }
   ],
   "source": [
    "train_spe = int(np.floor(len(X_train)/ batch_size)) #spe = Steps per epoch\n",
    "val_spe = int(np.floor(len(X_val)/batch_size))\n",
    "print(train_spe, val_spe)"
   ]
  },
  {
   "cell_type": "code",
   "execution_count": 12,
   "metadata": {},
   "outputs": [],
   "source": [
    "# Initialise training and validation generators\n",
    "train_generator = DataGenerator(base_path, file_paths =X_train, labels =y_train, batch_size = batch_size, \n",
    "                                dim=(size,size), n_channels=chs, n_classes= classes, shuffle=True)\n",
    "\n",
    "validation_generator = DataGenerator(base_path, file_paths =X_val, labels =y_val, batch_size = batch_size, \n",
    "                                     dim=(size,size), n_channels= chs, n_classes= classes, shuffle=True)"
   ]
  },
  {
   "cell_type": "code",
   "execution_count": 17,
   "metadata": {},
   "outputs": [
    {
     "data": {
      "text/plain": [
       "((32, 64, 64, 1), (32, 62), (32, 64, 64, 1), (32, 62))"
      ]
     },
     "execution_count": 17,
     "metadata": {},
     "output_type": "execute_result"
    }
   ],
   "source": [
    "X_t,y_t = train_generator.__getitem__(2)\n",
    "X_v,y_v = validation_generator.__getitem__(2)\n",
    "X_t.shape, y_t.shape, X_v.shape, y_v.shape"
   ]
  },
  {
   "cell_type": "markdown",
   "metadata": {},
   "source": [
    "### Defining a super set for loss, optimiser and metric functions. The user can select any from there options using the config file"
   ]
  },
  {
   "cell_type": "code",
   "execution_count": 18,
   "metadata": {},
   "outputs": [],
   "source": [
    "loss_class = {'cat_cross': 'categorical_crossentropy',\n",
    "              'sp_cat_cross': 'sparse categorical crossentropy'}\n",
    "\n",
    "metric_class = {'acc':'accuracy'}\n",
    "\n",
    "optimiser_class = {'adam': (Adam, {}),\n",
    "               'nadam': (Nadam, {}),\n",
    "               'rmsprop': (RMSprop, {}),\n",
    "               'sgd':(SGD, {'decay':1e-6, 'momentum':0.90, 'nesterov':True})}"
   ]
  },
  {
   "cell_type": "markdown",
   "metadata": {},
   "source": [
    "## Initialise Model"
   ]
  },
  {
   "cell_type": "code",
   "execution_count": 19,
   "metadata": {},
   "outputs": [
    {
     "name": "stdout",
     "output_type": "stream",
     "text": [
      "Training from scratch\n"
     ]
    }
   ],
   "source": [
    "if training_frm_scratch:\n",
    "    model, gpu_model = training_scratch(optimiser_class, loss_class, metric_class)\n",
    "\n",
    "elif training_frm_chkpt:\n",
    "    model, gpu_model = training_checkpoint()\n",
    "\n",
    "elif fine_tuning:\n",
    "    model, gpu_model = fine_tune(optimiser_class, loss_class, metric_class)\n",
    "\n",
    "elif transfer_lr:\n",
    "    model, gpu_model = transfer_learning(optimiser_class, loss_class, metric_class)"
   ]
  },
  {
   "cell_type": "markdown",
   "metadata": {},
   "source": [
    "### Print the model params"
   ]
  },
  {
   "cell_type": "code",
   "execution_count": 20,
   "metadata": {},
   "outputs": [
    {
     "name": "stdout",
     "output_type": "stream",
     "text": [
      "Model training params:\n",
      "Total params: 12,727,806\n",
      "Trainable params: 12,723,966\n",
      "Non-trainable params: 3,840\n"
     ]
    }
   ],
   "source": [
    "print(\"Model training params:\")\n",
    "trainable_count = int(np.sum([K.count_params(p) for p in set(model.trainable_weights)]))\n",
    "non_trainable_count = int(np.sum([K.count_params(p) for p in set(model.non_trainable_weights)]))\n",
    "params = (trainable_count + non_trainable_count,trainable_count, non_trainable_count)\n",
    "\n",
    "print('Total params: {:,}'.format(params[0]))\n",
    "print('Trainable params: {:,}'.format(params[1]))\n",
    "print('Non-trainable params: {:,}'.format(params[2]))"
   ]
  },
  {
   "cell_type": "markdown",
   "metadata": {},
   "source": [
    "### Set the callbacks to be used for training"
   ]
  },
  {
   "cell_type": "code",
   "execution_count": 21,
   "metadata": {},
   "outputs": [],
   "source": [
    "#Set callbacks        \n",
    "callbacks_list = get_callbacks(model)"
   ]
  },
  {
   "cell_type": "markdown",
   "metadata": {},
   "source": [
    "## Start/Resume training"
   ]
  },
  {
   "cell_type": "code",
   "execution_count": null,
   "metadata": {},
   "outputs": [],
   "source": [
    "# Start/resume training\n",
    "if config.no_of_gpu > 1:\n",
    "    history = gpu_model.fit_generator(steps_per_epoch= train_spe,\n",
    "                                      generator=train_generator,\n",
    "                                      epochs=epochs,\n",
    "                                      workers=4, \n",
    "                                      use_multiprocessing=True,\n",
    "                                      validation_data = validation_generator,\n",
    "                                      validation_steps = val_spe,\n",
    "                                      initial_epoch = initial_epoch,\n",
    "                                      class_weight = class_weights,\n",
    "                                      callbacks = callbacks_list)\n",
    "\n",
    "else:\n",
    "    history = model.fit_generator(steps_per_epoch= train_spe,\n",
    "                                      generator=train_generator,\n",
    "                                      epochs=epochs,\n",
    "                                      validation_data = validation_generator,\n",
    "                                      validation_steps = val_spe,\n",
    "                                      initial_epoch = initial_epoch,\n",
    "                                      class_weight = class_weights,\n",
    "                                      callbacks = callbacks_list)"
   ]
  },
  {
   "cell_type": "code",
   "execution_count": null,
   "metadata": {},
   "outputs": [],
   "source": [
    "#Save final complete model        \n",
    "filename = \"model_ep_\"+str(int(epochs))+\"_batch_\"+str(int(batch_size))\n",
    "model.save(\"./data/\"+exp_name+\"/\"+filename+\".h5\")\n",
    "print(\"Saved complete model file at: \", filename+\"_model\"+\".h5\")"
   ]
  },
  {
   "cell_type": "code",
   "execution_count": null,
   "metadata": {},
   "outputs": [],
   "source": [
    "#Save history\n",
    "history_to_save = generate_stats(history, config)\n",
    "pd.DataFrame(history_to_save).to_csv(\"./data/\"+exp_name+\"/\"+filename + \"_train_results.csv\")\n",
    "save_plots(history, exp_name)"
   ]
  },
  {
   "cell_type": "code",
   "execution_count": null,
   "metadata": {},
   "outputs": [],
   "source": []
  },
  {
   "cell_type": "code",
   "execution_count": null,
   "metadata": {},
   "outputs": [],
   "source": []
  },
  {
   "cell_type": "code",
   "execution_count": null,
   "metadata": {},
   "outputs": [],
   "source": []
  }
 ],
 "metadata": {
  "kernelspec": {
   "display_name": "Python 3",
   "language": "python",
   "name": "python3"
  },
  "language_info": {
   "codemirror_mode": {
    "name": "ipython",
    "version": 3
   },
   "file_extension": ".py",
   "mimetype": "text/x-python",
   "name": "python",
   "nbconvert_exporter": "python",
   "pygments_lexer": "ipython3",
   "version": "3.6.7"
  }
 },
 "nbformat": 4,
 "nbformat_minor": 2
}
